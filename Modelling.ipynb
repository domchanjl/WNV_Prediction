{
 "cells": [
  {
   "cell_type": "code",
   "execution_count": 1,
   "metadata": {
    "scrolled": true
   },
   "outputs": [
    {
     "name": "stderr",
     "output_type": "stream",
     "text": [
      "/Users/user/opt/anaconda3/lib/python3.7/site-packages/statsmodels/tools/_testing.py:19: FutureWarning: pandas.util.testing is deprecated. Use the functions in the public API at pandas.testing instead.\n",
      "  import pandas.util.testing as tm\n"
     ]
    }
   ],
   "source": [
    "import pandas as pd\n",
    "import numpy as np\n",
    "from sklearn.decomposition import PCA\n",
    "from sklearn.pipeline import Pipeline\n",
    "from scipy.spatial.distance import cdist\n",
    "from sklearn.model_selection import train_test_split, GridSearchCV\n",
    "from sklearn.metrics import confusion_matrix, classification_report,roc_auc_score\n",
    "import matplotlib.pyplot as plt\n",
    "import seaborn as sns\n",
    "from sklearn.ensemble import GradientBoostingClassifier,RandomForestClassifier,BaggingClassifier\n",
    "from sklearn.svm import SVC\n",
    "from sklearn.linear_model import LogisticRegression\n",
    "from sklearn.preprocessing import StandardScaler\n",
    "%matplotlib inline"
   ]
  },
  {
   "cell_type": "code",
   "execution_count": 2,
   "metadata": {},
   "outputs": [],
   "source": [
    "train=pd.read_csv('data/train.csv',parse_dates=['Date'])"
   ]
  },
  {
   "cell_type": "code",
   "execution_count": 3,
   "metadata": {},
   "outputs": [
    {
     "data": {
      "text/plain": [
       "Index(['Date', 'Address', 'Species', 'Block', 'Street', 'Trap',\n",
       "       'AddressNumberAndStreet', 'Latitude', 'Longitude', 'AddressAccuracy',\n",
       "       'NumMosquitos', 'WnvPresent'],\n",
       "      dtype='object')"
      ]
     },
     "execution_count": 3,
     "metadata": {},
     "output_type": "execute_result"
    }
   ],
   "source": [
    "train.columns"
   ]
  },
  {
   "cell_type": "code",
   "execution_count": 4,
   "metadata": {},
   "outputs": [],
   "source": [
    "weather=pd.read_csv('data/weather_cleaned.csv',parse_dates=['Date'])"
   ]
  },
  {
   "cell_type": "code",
   "execution_count": 5,
   "metadata": {},
   "outputs": [],
   "source": [
    "spray=pd.read_csv('data/spray_cleaned.csv',parse_dates=['Date'])"
   ]
  },
  {
   "cell_type": "code",
   "execution_count": 6,
   "metadata": {
    "scrolled": false
   },
   "outputs": [
    {
     "data": {
      "text/plain": [
       "Index(['Date', 'Address', 'Species', 'Block', 'Street', 'Trap',\n",
       "       'AddressNumberAndStreet', 'Latitude', 'Longitude', 'AddressAccuracy',\n",
       "       'NumMosquitos', 'WnvPresent'],\n",
       "      dtype='object')"
      ]
     },
     "execution_count": 6,
     "metadata": {},
     "output_type": "execute_result"
    }
   ],
   "source": [
    "train.columns"
   ]
  },
  {
   "cell_type": "code",
   "execution_count": 7,
   "metadata": {},
   "outputs": [
    {
     "data": {
      "text/html": [
       "<div>\n",
       "<style scoped>\n",
       "    .dataframe tbody tr th:only-of-type {\n",
       "        vertical-align: middle;\n",
       "    }\n",
       "\n",
       "    .dataframe tbody tr th {\n",
       "        vertical-align: top;\n",
       "    }\n",
       "\n",
       "    .dataframe thead th {\n",
       "        text-align: right;\n",
       "    }\n",
       "</style>\n",
       "<table border=\"1\" class=\"dataframe\">\n",
       "  <thead>\n",
       "    <tr style=\"text-align: right;\">\n",
       "      <th></th>\n",
       "      <th>Station</th>\n",
       "      <th>Date</th>\n",
       "      <th>Tmax</th>\n",
       "      <th>Tmin</th>\n",
       "      <th>Tavg</th>\n",
       "      <th>DewPoint</th>\n",
       "      <th>WetBulb</th>\n",
       "      <th>Heat</th>\n",
       "      <th>Cool</th>\n",
       "      <th>Sunrise</th>\n",
       "      <th>Sunset</th>\n",
       "      <th>CodeSum</th>\n",
       "      <th>PrecipTotal</th>\n",
       "      <th>StnPressure</th>\n",
       "      <th>SeaLevel</th>\n",
       "      <th>ResultSpeed</th>\n",
       "      <th>ResultDir</th>\n",
       "      <th>AvgSpeed</th>\n",
       "    </tr>\n",
       "  </thead>\n",
       "  <tbody>\n",
       "    <tr>\n",
       "      <th>0</th>\n",
       "      <td>1</td>\n",
       "      <td>2007-05-01</td>\n",
       "      <td>83</td>\n",
       "      <td>50</td>\n",
       "      <td>67.0</td>\n",
       "      <td>51</td>\n",
       "      <td>56.0</td>\n",
       "      <td>0.0</td>\n",
       "      <td>2.0</td>\n",
       "      <td>448.0</td>\n",
       "      <td>1849.0</td>\n",
       "      <td></td>\n",
       "      <td>0.0</td>\n",
       "      <td>29.10</td>\n",
       "      <td>29.82</td>\n",
       "      <td>1.7</td>\n",
       "      <td>27</td>\n",
       "      <td>9.2</td>\n",
       "    </tr>\n",
       "    <tr>\n",
       "      <th>1</th>\n",
       "      <td>2</td>\n",
       "      <td>2007-05-01</td>\n",
       "      <td>84</td>\n",
       "      <td>52</td>\n",
       "      <td>68.0</td>\n",
       "      <td>51</td>\n",
       "      <td>57.0</td>\n",
       "      <td>0.0</td>\n",
       "      <td>3.0</td>\n",
       "      <td>NaN</td>\n",
       "      <td>NaN</td>\n",
       "      <td></td>\n",
       "      <td>0.0</td>\n",
       "      <td>29.18</td>\n",
       "      <td>29.82</td>\n",
       "      <td>2.7</td>\n",
       "      <td>25</td>\n",
       "      <td>9.6</td>\n",
       "    </tr>\n",
       "    <tr>\n",
       "      <th>2</th>\n",
       "      <td>1</td>\n",
       "      <td>2007-05-02</td>\n",
       "      <td>59</td>\n",
       "      <td>42</td>\n",
       "      <td>51.0</td>\n",
       "      <td>42</td>\n",
       "      <td>47.0</td>\n",
       "      <td>14.0</td>\n",
       "      <td>0.0</td>\n",
       "      <td>447.0</td>\n",
       "      <td>1850.0</td>\n",
       "      <td>BR</td>\n",
       "      <td>0.0</td>\n",
       "      <td>29.38</td>\n",
       "      <td>30.09</td>\n",
       "      <td>13.0</td>\n",
       "      <td>4</td>\n",
       "      <td>13.4</td>\n",
       "    </tr>\n",
       "    <tr>\n",
       "      <th>3</th>\n",
       "      <td>2</td>\n",
       "      <td>2007-05-02</td>\n",
       "      <td>60</td>\n",
       "      <td>43</td>\n",
       "      <td>52.0</td>\n",
       "      <td>42</td>\n",
       "      <td>47.0</td>\n",
       "      <td>13.0</td>\n",
       "      <td>0.0</td>\n",
       "      <td>NaN</td>\n",
       "      <td>NaN</td>\n",
       "      <td>BR HZ</td>\n",
       "      <td>0.0</td>\n",
       "      <td>29.44</td>\n",
       "      <td>30.08</td>\n",
       "      <td>13.3</td>\n",
       "      <td>2</td>\n",
       "      <td>13.4</td>\n",
       "    </tr>\n",
       "    <tr>\n",
       "      <th>4</th>\n",
       "      <td>1</td>\n",
       "      <td>2007-05-03</td>\n",
       "      <td>66</td>\n",
       "      <td>46</td>\n",
       "      <td>56.0</td>\n",
       "      <td>40</td>\n",
       "      <td>48.0</td>\n",
       "      <td>9.0</td>\n",
       "      <td>0.0</td>\n",
       "      <td>446.0</td>\n",
       "      <td>1851.0</td>\n",
       "      <td></td>\n",
       "      <td>0.0</td>\n",
       "      <td>29.39</td>\n",
       "      <td>30.12</td>\n",
       "      <td>11.7</td>\n",
       "      <td>7</td>\n",
       "      <td>11.9</td>\n",
       "    </tr>\n",
       "  </tbody>\n",
       "</table>\n",
       "</div>"
      ],
      "text/plain": [
       "   Station       Date  Tmax  Tmin  Tavg  DewPoint  WetBulb  Heat  Cool  \\\n",
       "0        1 2007-05-01    83    50  67.0        51     56.0   0.0   2.0   \n",
       "1        2 2007-05-01    84    52  68.0        51     57.0   0.0   3.0   \n",
       "2        1 2007-05-02    59    42  51.0        42     47.0  14.0   0.0   \n",
       "3        2 2007-05-02    60    43  52.0        42     47.0  13.0   0.0   \n",
       "4        1 2007-05-03    66    46  56.0        40     48.0   9.0   0.0   \n",
       "\n",
       "   Sunrise  Sunset CodeSum  PrecipTotal  StnPressure  SeaLevel  ResultSpeed  \\\n",
       "0    448.0  1849.0                  0.0        29.10     29.82          1.7   \n",
       "1      NaN     NaN                  0.0        29.18     29.82          2.7   \n",
       "2    447.0  1850.0      BR          0.0        29.38     30.09         13.0   \n",
       "3      NaN     NaN   BR HZ          0.0        29.44     30.08         13.3   \n",
       "4    446.0  1851.0                  0.0        29.39     30.12         11.7   \n",
       "\n",
       "   ResultDir  AvgSpeed  \n",
       "0         27       9.2  \n",
       "1         25       9.6  \n",
       "2          4      13.4  \n",
       "3          2      13.4  \n",
       "4          7      11.9  "
      ]
     },
     "execution_count": 7,
     "metadata": {},
     "output_type": "execute_result"
    }
   ],
   "source": [
    "weather.head()"
   ]
  },
  {
   "cell_type": "code",
   "execution_count": 8,
   "metadata": {},
   "outputs": [
    {
     "data": {
      "text/html": [
       "<div>\n",
       "<style scoped>\n",
       "    .dataframe tbody tr th:only-of-type {\n",
       "        vertical-align: middle;\n",
       "    }\n",
       "\n",
       "    .dataframe tbody tr th {\n",
       "        vertical-align: top;\n",
       "    }\n",
       "\n",
       "    .dataframe thead th {\n",
       "        text-align: right;\n",
       "    }\n",
       "</style>\n",
       "<table border=\"1\" class=\"dataframe\">\n",
       "  <thead>\n",
       "    <tr style=\"text-align: right;\">\n",
       "      <th></th>\n",
       "      <th>Date</th>\n",
       "      <th>Time</th>\n",
       "      <th>Latitude</th>\n",
       "      <th>Longitude</th>\n",
       "    </tr>\n",
       "  </thead>\n",
       "  <tbody>\n",
       "    <tr>\n",
       "      <th>14289</th>\n",
       "      <td>2013-09-05</td>\n",
       "      <td>8:34:11 PM</td>\n",
       "      <td>42.006587</td>\n",
       "      <td>-87.812355</td>\n",
       "    </tr>\n",
       "    <tr>\n",
       "      <th>14290</th>\n",
       "      <td>2013-09-05</td>\n",
       "      <td>8:35:01 PM</td>\n",
       "      <td>42.006192</td>\n",
       "      <td>-87.816015</td>\n",
       "    </tr>\n",
       "    <tr>\n",
       "      <th>14291</th>\n",
       "      <td>2013-09-05</td>\n",
       "      <td>8:35:21 PM</td>\n",
       "      <td>42.006022</td>\n",
       "      <td>-87.817392</td>\n",
       "    </tr>\n",
       "    <tr>\n",
       "      <th>14292</th>\n",
       "      <td>2013-09-05</td>\n",
       "      <td>8:35:31 PM</td>\n",
       "      <td>42.005453</td>\n",
       "      <td>-87.817423</td>\n",
       "    </tr>\n",
       "    <tr>\n",
       "      <th>14293</th>\n",
       "      <td>2013-09-05</td>\n",
       "      <td>8:35:41 PM</td>\n",
       "      <td>42.004805</td>\n",
       "      <td>-87.817460</td>\n",
       "    </tr>\n",
       "  </tbody>\n",
       "</table>\n",
       "</div>"
      ],
      "text/plain": [
       "            Date        Time   Latitude  Longitude\n",
       "14289 2013-09-05  8:34:11 PM  42.006587 -87.812355\n",
       "14290 2013-09-05  8:35:01 PM  42.006192 -87.816015\n",
       "14291 2013-09-05  8:35:21 PM  42.006022 -87.817392\n",
       "14292 2013-09-05  8:35:31 PM  42.005453 -87.817423\n",
       "14293 2013-09-05  8:35:41 PM  42.004805 -87.817460"
      ]
     },
     "execution_count": 8,
     "metadata": {},
     "output_type": "execute_result"
    }
   ],
   "source": [
    "spray.tail()"
   ]
  },
  {
   "cell_type": "markdown",
   "metadata": {},
   "source": [
    "We attempt to get a working model using all available information and PCA"
   ]
  },
  {
   "cell_type": "markdown",
   "metadata": {},
   "source": [
    "# Comment: any reason why use PCA?"
   ]
  },
  {
   "cell_type": "code",
   "execution_count": 9,
   "metadata": {},
   "outputs": [],
   "source": [
    "#finding nearest station\n",
    "def station(point):\n",
    "    station1, station2 = [41.995, -87.933], [41.786, -87.752]  # Fixed coordinates for two stations\n",
    "    if cdist([point], [station1,station2]).argmin() == 0: return 1 # return index of closest point\n",
    "    return 2"
   ]
  },
  {
   "cell_type": "code",
   "execution_count": 10,
   "metadata": {},
   "outputs": [],
   "source": [
    "train['Station'] = [station(x) for x in train[['Latitude','Longitude']].values]"
   ]
  },
  {
   "cell_type": "code",
   "execution_count": 11,
   "metadata": {},
   "outputs": [],
   "source": [
    "combined=pd.merge(train,weather,on=['Date','Station'])"
   ]
  },
  {
   "cell_type": "code",
   "execution_count": 12,
   "metadata": {
    "scrolled": false
   },
   "outputs": [
    {
     "data": {
      "text/html": [
       "<div>\n",
       "<style scoped>\n",
       "    .dataframe tbody tr th:only-of-type {\n",
       "        vertical-align: middle;\n",
       "    }\n",
       "\n",
       "    .dataframe tbody tr th {\n",
       "        vertical-align: top;\n",
       "    }\n",
       "\n",
       "    .dataframe thead th {\n",
       "        text-align: right;\n",
       "    }\n",
       "</style>\n",
       "<table border=\"1\" class=\"dataframe\">\n",
       "  <thead>\n",
       "    <tr style=\"text-align: right;\">\n",
       "      <th></th>\n",
       "      <th>Date</th>\n",
       "      <th>Address</th>\n",
       "      <th>Species</th>\n",
       "      <th>Block</th>\n",
       "      <th>Street</th>\n",
       "      <th>Trap</th>\n",
       "      <th>AddressNumberAndStreet</th>\n",
       "      <th>Latitude</th>\n",
       "      <th>Longitude</th>\n",
       "      <th>AddressAccuracy</th>\n",
       "      <th>...</th>\n",
       "      <th>Cool</th>\n",
       "      <th>Sunrise</th>\n",
       "      <th>Sunset</th>\n",
       "      <th>CodeSum</th>\n",
       "      <th>PrecipTotal</th>\n",
       "      <th>StnPressure</th>\n",
       "      <th>SeaLevel</th>\n",
       "      <th>ResultSpeed</th>\n",
       "      <th>ResultDir</th>\n",
       "      <th>AvgSpeed</th>\n",
       "    </tr>\n",
       "  </thead>\n",
       "  <tbody>\n",
       "    <tr>\n",
       "      <th>0</th>\n",
       "      <td>2007-05-29</td>\n",
       "      <td>4100 North Oak Park Avenue, Chicago, IL 60634,...</td>\n",
       "      <td>CULEX PIPIENS/RESTUANS</td>\n",
       "      <td>41</td>\n",
       "      <td>N OAK PARK AVE</td>\n",
       "      <td>T002</td>\n",
       "      <td>4100  N OAK PARK AVE, Chicago, IL</td>\n",
       "      <td>41.954690</td>\n",
       "      <td>-87.800991</td>\n",
       "      <td>9</td>\n",
       "      <td>...</td>\n",
       "      <td>9.0</td>\n",
       "      <td>421.0</td>\n",
       "      <td>1917.0</td>\n",
       "      <td>BR HZ</td>\n",
       "      <td>0.0</td>\n",
       "      <td>29.39</td>\n",
       "      <td>30.11</td>\n",
       "      <td>5.8</td>\n",
       "      <td>18</td>\n",
       "      <td>6.5</td>\n",
       "    </tr>\n",
       "    <tr>\n",
       "      <th>1</th>\n",
       "      <td>2007-05-29</td>\n",
       "      <td>4100 North Oak Park Avenue, Chicago, IL 60634,...</td>\n",
       "      <td>CULEX RESTUANS</td>\n",
       "      <td>41</td>\n",
       "      <td>N OAK PARK AVE</td>\n",
       "      <td>T002</td>\n",
       "      <td>4100  N OAK PARK AVE, Chicago, IL</td>\n",
       "      <td>41.954690</td>\n",
       "      <td>-87.800991</td>\n",
       "      <td>9</td>\n",
       "      <td>...</td>\n",
       "      <td>9.0</td>\n",
       "      <td>421.0</td>\n",
       "      <td>1917.0</td>\n",
       "      <td>BR HZ</td>\n",
       "      <td>0.0</td>\n",
       "      <td>29.39</td>\n",
       "      <td>30.11</td>\n",
       "      <td>5.8</td>\n",
       "      <td>18</td>\n",
       "      <td>6.5</td>\n",
       "    </tr>\n",
       "    <tr>\n",
       "      <th>2</th>\n",
       "      <td>2007-05-29</td>\n",
       "      <td>6200 North Mandell Avenue, Chicago, IL 60646, USA</td>\n",
       "      <td>CULEX RESTUANS</td>\n",
       "      <td>62</td>\n",
       "      <td>N MANDELL AVE</td>\n",
       "      <td>T007</td>\n",
       "      <td>6200  N MANDELL AVE, Chicago, IL</td>\n",
       "      <td>41.994991</td>\n",
       "      <td>-87.769279</td>\n",
       "      <td>9</td>\n",
       "      <td>...</td>\n",
       "      <td>9.0</td>\n",
       "      <td>421.0</td>\n",
       "      <td>1917.0</td>\n",
       "      <td>BR HZ</td>\n",
       "      <td>0.0</td>\n",
       "      <td>29.39</td>\n",
       "      <td>30.11</td>\n",
       "      <td>5.8</td>\n",
       "      <td>18</td>\n",
       "      <td>6.5</td>\n",
       "    </tr>\n",
       "    <tr>\n",
       "      <th>3</th>\n",
       "      <td>2007-05-29</td>\n",
       "      <td>7900 West Foster Avenue, Chicago, IL 60656, USA</td>\n",
       "      <td>CULEX PIPIENS/RESTUANS</td>\n",
       "      <td>79</td>\n",
       "      <td>W FOSTER AVE</td>\n",
       "      <td>T015</td>\n",
       "      <td>7900  W FOSTER AVE, Chicago, IL</td>\n",
       "      <td>41.974089</td>\n",
       "      <td>-87.824812</td>\n",
       "      <td>8</td>\n",
       "      <td>...</td>\n",
       "      <td>9.0</td>\n",
       "      <td>421.0</td>\n",
       "      <td>1917.0</td>\n",
       "      <td>BR HZ</td>\n",
       "      <td>0.0</td>\n",
       "      <td>29.39</td>\n",
       "      <td>30.11</td>\n",
       "      <td>5.8</td>\n",
       "      <td>18</td>\n",
       "      <td>6.5</td>\n",
       "    </tr>\n",
       "    <tr>\n",
       "      <th>4</th>\n",
       "      <td>2007-05-29</td>\n",
       "      <td>7900 West Foster Avenue, Chicago, IL 60656, USA</td>\n",
       "      <td>CULEX RESTUANS</td>\n",
       "      <td>79</td>\n",
       "      <td>W FOSTER AVE</td>\n",
       "      <td>T015</td>\n",
       "      <td>7900  W FOSTER AVE, Chicago, IL</td>\n",
       "      <td>41.974089</td>\n",
       "      <td>-87.824812</td>\n",
       "      <td>8</td>\n",
       "      <td>...</td>\n",
       "      <td>9.0</td>\n",
       "      <td>421.0</td>\n",
       "      <td>1917.0</td>\n",
       "      <td>BR HZ</td>\n",
       "      <td>0.0</td>\n",
       "      <td>29.39</td>\n",
       "      <td>30.11</td>\n",
       "      <td>5.8</td>\n",
       "      <td>18</td>\n",
       "      <td>6.5</td>\n",
       "    </tr>\n",
       "    <tr>\n",
       "      <th>...</th>\n",
       "      <td>...</td>\n",
       "      <td>...</td>\n",
       "      <td>...</td>\n",
       "      <td>...</td>\n",
       "      <td>...</td>\n",
       "      <td>...</td>\n",
       "      <td>...</td>\n",
       "      <td>...</td>\n",
       "      <td>...</td>\n",
       "      <td>...</td>\n",
       "      <td>...</td>\n",
       "      <td>...</td>\n",
       "      <td>...</td>\n",
       "      <td>...</td>\n",
       "      <td>...</td>\n",
       "      <td>...</td>\n",
       "      <td>...</td>\n",
       "      <td>...</td>\n",
       "      <td>...</td>\n",
       "      <td>...</td>\n",
       "      <td>...</td>\n",
       "    </tr>\n",
       "    <tr>\n",
       "      <th>10501</th>\n",
       "      <td>2013-09-26</td>\n",
       "      <td>3900 North Springfield Avenue, Chicago, IL 606...</td>\n",
       "      <td>CULEX PIPIENS/RESTUANS</td>\n",
       "      <td>39</td>\n",
       "      <td>N SPRINGFIELD AVE</td>\n",
       "      <td>T228</td>\n",
       "      <td>3900  N SPRINGFIELD AVE, Chicago, IL</td>\n",
       "      <td>41.951866</td>\n",
       "      <td>-87.725057</td>\n",
       "      <td>8</td>\n",
       "      <td>...</td>\n",
       "      <td>0.0</td>\n",
       "      <td>NaN</td>\n",
       "      <td>NaN</td>\n",
       "      <td></td>\n",
       "      <td>0.0</td>\n",
       "      <td>29.40</td>\n",
       "      <td>30.04</td>\n",
       "      <td>4.1</td>\n",
       "      <td>9</td>\n",
       "      <td>4.6</td>\n",
       "    </tr>\n",
       "    <tr>\n",
       "      <th>10502</th>\n",
       "      <td>2013-09-26</td>\n",
       "      <td>5100 West 72nd Street, Chicago, IL 60638, USA</td>\n",
       "      <td>CULEX PIPIENS/RESTUANS</td>\n",
       "      <td>51</td>\n",
       "      <td>W 72ND ST</td>\n",
       "      <td>T035</td>\n",
       "      <td>5100  W 72ND ST, Chicago, IL</td>\n",
       "      <td>41.763733</td>\n",
       "      <td>-87.742302</td>\n",
       "      <td>8</td>\n",
       "      <td>...</td>\n",
       "      <td>0.0</td>\n",
       "      <td>NaN</td>\n",
       "      <td>NaN</td>\n",
       "      <td></td>\n",
       "      <td>0.0</td>\n",
       "      <td>29.40</td>\n",
       "      <td>30.04</td>\n",
       "      <td>4.1</td>\n",
       "      <td>9</td>\n",
       "      <td>4.6</td>\n",
       "    </tr>\n",
       "    <tr>\n",
       "      <th>10503</th>\n",
       "      <td>2013-09-26</td>\n",
       "      <td>5800 North Ridge Avenue, Chicago, IL 60660, USA</td>\n",
       "      <td>CULEX PIPIENS/RESTUANS</td>\n",
       "      <td>58</td>\n",
       "      <td>N RIDGE AVE</td>\n",
       "      <td>T231</td>\n",
       "      <td>5800  N RIDGE AVE, Chicago, IL</td>\n",
       "      <td>41.987280</td>\n",
       "      <td>-87.666066</td>\n",
       "      <td>8</td>\n",
       "      <td>...</td>\n",
       "      <td>0.0</td>\n",
       "      <td>NaN</td>\n",
       "      <td>NaN</td>\n",
       "      <td></td>\n",
       "      <td>0.0</td>\n",
       "      <td>29.40</td>\n",
       "      <td>30.04</td>\n",
       "      <td>4.1</td>\n",
       "      <td>9</td>\n",
       "      <td>4.6</td>\n",
       "    </tr>\n",
       "    <tr>\n",
       "      <th>10504</th>\n",
       "      <td>2013-09-26</td>\n",
       "      <td>1700 North Ashland Avenue, Chicago, IL 60622, USA</td>\n",
       "      <td>CULEX PIPIENS/RESTUANS</td>\n",
       "      <td>17</td>\n",
       "      <td>N ASHLAND AVE</td>\n",
       "      <td>T232</td>\n",
       "      <td>1700  N ASHLAND AVE, Chicago, IL</td>\n",
       "      <td>41.912563</td>\n",
       "      <td>-87.668055</td>\n",
       "      <td>9</td>\n",
       "      <td>...</td>\n",
       "      <td>0.0</td>\n",
       "      <td>NaN</td>\n",
       "      <td>NaN</td>\n",
       "      <td></td>\n",
       "      <td>0.0</td>\n",
       "      <td>29.40</td>\n",
       "      <td>30.04</td>\n",
       "      <td>4.1</td>\n",
       "      <td>9</td>\n",
       "      <td>4.6</td>\n",
       "    </tr>\n",
       "    <tr>\n",
       "      <th>10505</th>\n",
       "      <td>2013-09-26</td>\n",
       "      <td>4200 West 65th Street, Chicago, IL 60621, USA</td>\n",
       "      <td>CULEX PIPIENS/RESTUANS</td>\n",
       "      <td>42</td>\n",
       "      <td>W 65TH ST</td>\n",
       "      <td>T235</td>\n",
       "      <td>4200  W 65TH ST, Chicago, IL</td>\n",
       "      <td>41.776428</td>\n",
       "      <td>-87.627096</td>\n",
       "      <td>8</td>\n",
       "      <td>...</td>\n",
       "      <td>0.0</td>\n",
       "      <td>NaN</td>\n",
       "      <td>NaN</td>\n",
       "      <td></td>\n",
       "      <td>0.0</td>\n",
       "      <td>29.40</td>\n",
       "      <td>30.04</td>\n",
       "      <td>4.1</td>\n",
       "      <td>9</td>\n",
       "      <td>4.6</td>\n",
       "    </tr>\n",
       "  </tbody>\n",
       "</table>\n",
       "<p>10506 rows × 29 columns</p>\n",
       "</div>"
      ],
      "text/plain": [
       "            Date                                            Address  \\\n",
       "0     2007-05-29  4100 North Oak Park Avenue, Chicago, IL 60634,...   \n",
       "1     2007-05-29  4100 North Oak Park Avenue, Chicago, IL 60634,...   \n",
       "2     2007-05-29  6200 North Mandell Avenue, Chicago, IL 60646, USA   \n",
       "3     2007-05-29    7900 West Foster Avenue, Chicago, IL 60656, USA   \n",
       "4     2007-05-29    7900 West Foster Avenue, Chicago, IL 60656, USA   \n",
       "...          ...                                                ...   \n",
       "10501 2013-09-26  3900 North Springfield Avenue, Chicago, IL 606...   \n",
       "10502 2013-09-26      5100 West 72nd Street, Chicago, IL 60638, USA   \n",
       "10503 2013-09-26    5800 North Ridge Avenue, Chicago, IL 60660, USA   \n",
       "10504 2013-09-26  1700 North Ashland Avenue, Chicago, IL 60622, USA   \n",
       "10505 2013-09-26      4200 West 65th Street, Chicago, IL 60621, USA   \n",
       "\n",
       "                      Species  Block              Street  Trap  \\\n",
       "0      CULEX PIPIENS/RESTUANS     41      N OAK PARK AVE  T002   \n",
       "1              CULEX RESTUANS     41      N OAK PARK AVE  T002   \n",
       "2              CULEX RESTUANS     62       N MANDELL AVE  T007   \n",
       "3      CULEX PIPIENS/RESTUANS     79        W FOSTER AVE  T015   \n",
       "4              CULEX RESTUANS     79        W FOSTER AVE  T015   \n",
       "...                       ...    ...                 ...   ...   \n",
       "10501  CULEX PIPIENS/RESTUANS     39   N SPRINGFIELD AVE  T228   \n",
       "10502  CULEX PIPIENS/RESTUANS     51           W 72ND ST  T035   \n",
       "10503  CULEX PIPIENS/RESTUANS     58         N RIDGE AVE  T231   \n",
       "10504  CULEX PIPIENS/RESTUANS     17       N ASHLAND AVE  T232   \n",
       "10505  CULEX PIPIENS/RESTUANS     42           W 65TH ST  T235   \n",
       "\n",
       "                     AddressNumberAndStreet   Latitude  Longitude  \\\n",
       "0         4100  N OAK PARK AVE, Chicago, IL  41.954690 -87.800991   \n",
       "1         4100  N OAK PARK AVE, Chicago, IL  41.954690 -87.800991   \n",
       "2          6200  N MANDELL AVE, Chicago, IL  41.994991 -87.769279   \n",
       "3           7900  W FOSTER AVE, Chicago, IL  41.974089 -87.824812   \n",
       "4           7900  W FOSTER AVE, Chicago, IL  41.974089 -87.824812   \n",
       "...                                     ...        ...        ...   \n",
       "10501  3900  N SPRINGFIELD AVE, Chicago, IL  41.951866 -87.725057   \n",
       "10502          5100  W 72ND ST, Chicago, IL  41.763733 -87.742302   \n",
       "10503        5800  N RIDGE AVE, Chicago, IL  41.987280 -87.666066   \n",
       "10504      1700  N ASHLAND AVE, Chicago, IL  41.912563 -87.668055   \n",
       "10505          4200  W 65TH ST, Chicago, IL  41.776428 -87.627096   \n",
       "\n",
       "       AddressAccuracy  ...  Cool  Sunrise  Sunset  CodeSum  PrecipTotal  \\\n",
       "0                    9  ...   9.0    421.0  1917.0    BR HZ          0.0   \n",
       "1                    9  ...   9.0    421.0  1917.0    BR HZ          0.0   \n",
       "2                    9  ...   9.0    421.0  1917.0    BR HZ          0.0   \n",
       "3                    8  ...   9.0    421.0  1917.0    BR HZ          0.0   \n",
       "4                    8  ...   9.0    421.0  1917.0    BR HZ          0.0   \n",
       "...                ...  ...   ...      ...     ...      ...          ...   \n",
       "10501                8  ...   0.0      NaN     NaN                   0.0   \n",
       "10502                8  ...   0.0      NaN     NaN                   0.0   \n",
       "10503                8  ...   0.0      NaN     NaN                   0.0   \n",
       "10504                9  ...   0.0      NaN     NaN                   0.0   \n",
       "10505                8  ...   0.0      NaN     NaN                   0.0   \n",
       "\n",
       "       StnPressure  SeaLevel  ResultSpeed  ResultDir  AvgSpeed  \n",
       "0            29.39     30.11          5.8         18       6.5  \n",
       "1            29.39     30.11          5.8         18       6.5  \n",
       "2            29.39     30.11          5.8         18       6.5  \n",
       "3            29.39     30.11          5.8         18       6.5  \n",
       "4            29.39     30.11          5.8         18       6.5  \n",
       "...            ...       ...          ...        ...       ...  \n",
       "10501        29.40     30.04          4.1          9       4.6  \n",
       "10502        29.40     30.04          4.1          9       4.6  \n",
       "10503        29.40     30.04          4.1          9       4.6  \n",
       "10504        29.40     30.04          4.1          9       4.6  \n",
       "10505        29.40     30.04          4.1          9       4.6  \n",
       "\n",
       "[10506 rows x 29 columns]"
      ]
     },
     "execution_count": 12,
     "metadata": {},
     "output_type": "execute_result"
    }
   ],
   "source": [
    "combined"
   ]
  },
  {
   "cell_type": "code",
   "execution_count": 13,
   "metadata": {},
   "outputs": [],
   "source": [
    "combined=pd.read_csv('data/combined.csv',parse_dates=['Date'])"
   ]
  },
  {
   "cell_type": "code",
   "execution_count": 14,
   "metadata": {},
   "outputs": [],
   "source": [
    "#geometry only used for plotting in EDA\n",
    "combined.drop('geometry',inplace=True,axis=1)"
   ]
  },
  {
   "cell_type": "code",
   "execution_count": 15,
   "metadata": {
    "scrolled": true
   },
   "outputs": [
    {
     "data": {
      "text/plain": [
       "0    0.947554\n",
       "1    0.052446\n",
       "Name: WnvPresent, dtype: float64"
      ]
     },
     "execution_count": 15,
     "metadata": {},
     "output_type": "execute_result"
    }
   ],
   "source": [
    "#beat baseline\n",
    "combined['WnvPresent'].value_counts(normalize=True)"
   ]
  },
  {
   "cell_type": "code",
   "execution_count": 16,
   "metadata": {
    "scrolled": true
   },
   "outputs": [
    {
     "data": {
      "text/plain": [
       "array(['BR HZ', 'RA BR', 'TSRA BR HZ VCTS', ' ', 'TSRA RA BR VCTS',\n",
       "       'TS TSRA RA BR HZ VCTS', 'DZ BR', 'RA BR HZ', 'HZ', 'VCTS',\n",
       "       'TSRA RA DZ BR HZ', 'TSRA BR HZ', 'TSRA RA BR', 'TS TSRA RA BR',\n",
       "       'BR', 'TSRA RA', 'TSRA HZ', 'TSRA', 'RA', 'TS TSRA BR', 'RA DZ BR',\n",
       "       'TS TSRA BR HZ', 'TS TSRA RA VCTS', 'TSRA BR', 'TS BR', 'TS',\n",
       "       'FG BR HZ', 'TS TSRA RA FG BR HZ'], dtype=object)"
      ]
     },
     "execution_count": 16,
     "metadata": {},
     "output_type": "execute_result"
    }
   ],
   "source": [
    "combined['CodeSum'].unique()"
   ]
  },
  {
   "cell_type": "code",
   "execution_count": 17,
   "metadata": {},
   "outputs": [],
   "source": [
    "# making get dummies for CodeSum\n",
    "words=[i.split(' ') for i in combined['CodeSum'].unique()]\n",
    "words=[x for l in words for x in l]"
   ]
  },
  {
   "cell_type": "code",
   "execution_count": 18,
   "metadata": {
    "scrolled": true
   },
   "outputs": [
    {
     "data": {
      "text/plain": [
       "Index(['BR', 'TSRA', 'RA', 'HZ', 'TS', 'VCTS', 'DZ', 'FG', ''], dtype='object')"
      ]
     },
     "execution_count": 18,
     "metadata": {},
     "output_type": "execute_result"
    }
   ],
   "source": [
    "pd.Series(words).value_counts().index"
   ]
  },
  {
   "cell_type": "code",
   "execution_count": 19,
   "metadata": {},
   "outputs": [],
   "source": [
    "for col in pd.Series(words).value_counts().index:\n",
    "    col_list=[1 if np.isin(i,col) else 0 for i in combined['CodeSum']]\n",
    "    combined[col] = col_list"
   ]
  },
  {
   "cell_type": "code",
   "execution_count": 20,
   "metadata": {
    "scrolled": false
   },
   "outputs": [
    {
     "data": {
      "text/plain": [
       "array([0, 1])"
      ]
     },
     "execution_count": 20,
     "metadata": {},
     "output_type": "execute_result"
    }
   ],
   "source": [
    "#proof my 'get dummies' worked\n",
    "combined.TS.unique()"
   ]
  },
  {
   "cell_type": "code",
   "execution_count": 21,
   "metadata": {},
   "outputs": [],
   "source": [
    "combined.drop('CodeSum',axis=1,inplace=True)"
   ]
  },
  {
   "cell_type": "code",
   "execution_count": 22,
   "metadata": {},
   "outputs": [],
   "source": [
    "combined['Month'] = combined['Date'].dt.month\n",
    "combined['Year']=combined['Date'].dt.year\n",
    "combined.drop('Date',axis=1,inplace=True)"
   ]
  },
  {
   "cell_type": "code",
   "execution_count": 23,
   "metadata": {
    "scrolled": true
   },
   "outputs": [],
   "source": [
    "# in eda+outside research we realised that mostly PIPIENS/RESTUANS has the virus \n",
    "# so we just check whether species is pipens or restuans\n",
    "combined['Species']=combined['Species'].str.contains('PIPENS|RESTUANS')"
   ]
  },
  {
   "cell_type": "code",
   "execution_count": 24,
   "metadata": {},
   "outputs": [],
   "source": [
    "# in eda we identified a danger zone...we mark if the place is within it\n",
    "combined['danger']=0\n",
    "for indice,(lat,long) in combined[['Latitude', 'Longitude']].iterrows():\n",
    "    if ((41.89 <= lat <= 42.02)&(-87.93 <= long <= -87.67)):\n",
    "            combined.loc[indice,'danger']=1\n",
    "combined['danger_and_species']=combined.danger*combined.Species"
   ]
  },
  {
   "cell_type": "code",
   "execution_count": 25,
   "metadata": {
    "scrolled": true
   },
   "outputs": [
    {
     "name": "stdout",
     "output_type": "stream",
     "text": [
      "ORD Terminal 5, O'Hare International Airport, Chicago, IL 60666, USA         750\n",
      "South Doty Avenue, Chicago, IL, USA                                          542\n",
      "South Stony Island Avenue, Chicago, IL, USA                                  314\n",
      "4100 North Oak Park Avenue, Chicago, IL 60634, USA                           185\n",
      "4200 West 127th Street, Alsip, IL 60803, USA                                 183\n",
      "                                                                            ... \n",
      "3400 West 77th Street, Chicago, IL 60652, USA                                  7\n",
      "5500 South Doctor Martin Luther King Junior Drive, Chicago, IL 60637, USA      5\n",
      "9600 South Longwood Drive, Chicago, IL 60643, USA                              5\n",
      "2900 West 85th Street, Chicago, IL 60652, USA                                  3\n",
      "2100 South Hamlin Avenue, Chicago, IL 60623, USA                               2\n",
      "Name: Address, Length: 138, dtype: int64\n",
      " W OHARE AIRPORT       750\n",
      " S DOTY AVE            542\n",
      " S STONY ISLAND AVE    347\n",
      " S ASHLAND AVE         266\n",
      " N OAK PARK AVE        216\n",
      "                      ... \n",
      " S RACINE AVE            8\n",
      " W 77TH ST               7\n",
      " S LONGWOOD DR           5\n",
      " W 85TH ST               3\n",
      " S HAMLIN AVE            2\n",
      "Name: Street, Length: 128, dtype: int64\n",
      "T900     750\n",
      "T115     542\n",
      "T138     314\n",
      "T002     185\n",
      "T135     183\n",
      "        ... \n",
      "T238       7\n",
      "T076       5\n",
      "T094B      5\n",
      "T237       3\n",
      "T040       2\n",
      "Name: Trap, Length: 136, dtype: int64\n",
      "1000  W OHARE AIRPORT, Chicago, IL                  750\n",
      "1200  S DOTY AVE, Chicago, IL                       542\n",
      "1000  S STONY ISLAND AVE, Chicago, IL               314\n",
      "4100  N OAK PARK AVE, Chicago, IL                   185\n",
      "4200  W 127TH PL, Chicago, IL                       183\n",
      "                                                   ... \n",
      "3400  W 77TH ST, Chicago, IL                          7\n",
      "9600  S LONGWOOD DR, Chicago, IL                      5\n",
      "5500  S DR MARTIN LUTHER KING JR DR, Chicago, IL      5\n",
      "2900  W 85TH ST, Chicago, IL                          3\n",
      "2100  S HAMLIN AVE, Chicago, IL                       2\n",
      "Name: AddressNumberAndStreet, Length: 138, dtype: int64\n"
     ]
    }
   ],
   "source": [
    "for i in combined.columns[combined.dtypes=='object']:\n",
    "    print(combined[i].value_counts())"
   ]
  },
  {
   "cell_type": "code",
   "execution_count": 26,
   "metadata": {},
   "outputs": [],
   "source": [
    "# drop address-related columns since we got long,lat, NumMosquitos not given in test set\n",
    "combined.drop(['AddressNumberAndStreet','Trap','NumMosquitos','AddressAccuracy','Address','spray_times','Street'],axis=1,inplace=True)"
   ]
  },
  {
   "cell_type": "code",
   "execution_count": 27,
   "metadata": {
    "scrolled": false
   },
   "outputs": [
    {
     "data": {
      "text/plain": [
       "Index(['Species', 'Block', 'Latitude', 'Longitude', 'WnvPresent', 'Station',\n",
       "       'Tmax', 'Tmin', 'Tavg', 'DewPoint', 'WetBulb', 'Heat', 'Cool',\n",
       "       'Sunrise', 'Sunset', 'PrecipTotal', 'StnPressure', 'SeaLevel',\n",
       "       'ResultSpeed', 'ResultDir', 'AvgSpeed', 'BR', 'TSRA', 'RA', 'HZ', 'TS',\n",
       "       'VCTS', 'DZ', 'FG', '', 'Month', 'Year', 'danger',\n",
       "       'danger_and_species'],\n",
       "      dtype='object')"
      ]
     },
     "execution_count": 27,
     "metadata": {},
     "output_type": "execute_result"
    }
   ],
   "source": [
    "combined.columns"
   ]
  },
  {
   "cell_type": "code",
   "execution_count": 28,
   "metadata": {},
   "outputs": [
    {
     "data": {
      "text/plain": [
       "Index([], dtype='object')"
      ]
     },
     "execution_count": 28,
     "metadata": {},
     "output_type": "execute_result"
    }
   ],
   "source": [
    "obj_list=combined.columns[combined.dtypes=='object']\n",
    "obj_list"
   ]
  },
  {
   "cell_type": "code",
   "execution_count": 29,
   "metadata": {
    "scrolled": true
   },
   "outputs": [],
   "source": [
    "combined=pd.get_dummies(combined,columns=obj_list.tolist(),drop_first=False)"
   ]
  },
  {
   "cell_type": "code",
   "execution_count": 30,
   "metadata": {},
   "outputs": [],
   "source": [
    "def transform_test(test):\n",
    "    words=[i.split(' ') for i in test['CodeSum'].unique()]\n",
    "    words=[x for l in words for x in l]\n",
    "    for col in pd.Series(words).value_counts().index:\n",
    "        col_list=[1 if np.isin(i,col) else 0 for i in test['CodeSum']]\n",
    "        test[col] = col_list\n",
    "    test.drop('CodeSum',axis=1,inplace=True)\n",
    "    test['Date']=pd.to_datetime(test['Date'])\n",
    "    test['Month'] =test['Date'].dt.month\n",
    "    test['Year']=test['Date'].dt.year\n",
    "    # test has unspecified species... could be pipen restuans\n",
    "    test['Species']=test['Species'].str.contains('PIPENS|RESTUANS|UNSPECIFIED')\n",
    "    test['danger']=0\n",
    "    for indice,(lat,long) in test[['Latitude', 'Longitude']].iterrows():\n",
    "        if ((41.89 <= lat <= 42.02)&(-87.93 <= long <= -87.67)):\n",
    "            test.loc[indice,'danger']=1\n",
    "    test['danger_and_species']=test.danger*test.Species        \n",
    "    test.drop(['Date','AddressNumberAndStreet','Trap','AddressAccuracy','Address','Street'],axis=1,inplace=True)\n",
    "    test=pd.get_dummies(test,columns=test.columns[test.dtypes=='object'].tolist())\n",
    "    return test"
   ]
  },
  {
   "cell_type": "code",
   "execution_count": 31,
   "metadata": {},
   "outputs": [],
   "source": [
    "df_list=[]"
   ]
  },
  {
   "cell_type": "markdown",
   "metadata": {},
   "source": [
    "# Comment: this modelling notebook bit is quite hard to read.. not sure why df_list or obj_list were created, as of this moment, probably for use later. But should at least include more comments and annotations."
   ]
  },
  {
   "cell_type": "code",
   "execution_count": 32,
   "metadata": {},
   "outputs": [],
   "source": [
    "combined.dropna(axis='columns',inplace=True)\n",
    "X = combined.drop('WnvPresent',axis=1)\n",
    "y = combined['WnvPresent']"
   ]
  },
  {
   "cell_type": "code",
   "execution_count": 33,
   "metadata": {},
   "outputs": [],
   "source": [
    "# DEFINING A FUNCTION THAT WILL RUN MULTIPLE MODELS AND GRIDSEARCH FOR BEST PARAMETERS\n",
    "\n",
    "def gridsearch_multi(steps_titles, steps_list, pipe_params):\n",
    "    \n",
    "    #DEFINING X and y\n",
    "    combined.dropna(axis='columns',inplace=True)\n",
    "    X = combined.drop('WnvPresent',axis=1)\n",
    "    y = combined['WnvPresent']\n",
    "    #TRAIN-TEST SPLIT\n",
    "    X_train, X_test, y_train, y_test = train_test_split(X, y, test_size=0.25, random_state=25, stratify=y)\n",
    "    # DATAFRAME TO DISPLAY RESULTS\n",
    "    gs_results = pd.DataFrame(columns=['model','AUC Score', 'precision', 'recall', \n",
    "                                       'best_params', 'best score', 'confusion matrix', \n",
    "                                       'train_accuracy','test_accuracy','baseline_accuracy', 'f1-score'])\n",
    "\n",
    "    # FOR LOOP THROUGH STEPS LIST\n",
    "    for i in range(len(steps_list)):\n",
    "        # INSTATIATE PIPELINE\n",
    "        pipe = Pipeline(steps=steps_list[i])\n",
    "        # INSTANTIATE GRIDSEARCHCV WITH PARAMETER ARGUMENT\n",
    "        gs = GridSearchCV(pipe, pipe_params[i], cv=3) \n",
    "        gs.fit(X_train, y_train)\n",
    "        \n",
    "        #GETTING PREDICTIONS FROM MODEL\n",
    "        pred = gs.predict(X_test)\n",
    "        \n",
    "        # DEFINE CONFUSION MATRIX ELEMENTS\n",
    "        tn, fp, fn, tp = confusion_matrix(y_test, gs.predict(X_test)).ravel() \n",
    "        \n",
    "        #CALCULATING AREA UNDER THE CURVE \n",
    "        auc = roc_auc_score(y_test, pred)\n",
    "        recall=tp/(tp+fp)\n",
    "        precision=tp/(tn+tp)\n",
    "        #DEFINE DATAFRAME COLUMNS\n",
    "        model_results = {}\n",
    "        model_results['model'] = steps_titles[i]\n",
    "        model_results['AUC Score'] = auc\n",
    "        model_results['recall (sensitivity)']= recall\n",
    "        model_results['best params'] = gs.best_params_\n",
    "        model_results['best score'] = gs.best_score_\n",
    "        model_results['confusion matrix']={\"TP\": tp,\"FP\":fp, \"TN\": tn, \"FN\": fn}\n",
    "        model_results['train accuracy'] = gs.score(X_train, y_train)\n",
    "        model_results['test accuracy'] = gs.score(X_test, y_test)\n",
    "        model_results['baseline accuracy'] = 0.95        \n",
    "        model_results['precision']= precision\n",
    "        model_results['f1-score']= 2*(recall*precision)/(recall+precision)\n",
    "\n",
    "\n",
    "        #APPEND RESULTS TO A NICE DATAFRAME\n",
    "        df_list.append(model_results) \n",
    "        pd.set_option(\"display.max_colwidth\", 200)\n",
    "    return (pd.DataFrame(df_list)).round(2)"
   ]
  },
  {
   "cell_type": "code",
   "execution_count": 34,
   "metadata": {},
   "outputs": [],
   "source": [
    "steps_titles = ['RF','GradientTrees','SVM','SS+PCA+SVM']\n",
    "\n",
    "# CODE FOR PIPELINE TO INSTATIATE MODELS\n",
    "steps_list = [ \n",
    "    [('rf', BaggingClassifier(RandomForestClassifier(random_state=25,max_depth=3),random_state=25,n_estimators=100,n_jobs=-1))],\n",
    "    [('trees', GradientBoostingClassifier(random_state=25,n_estimators=500,max_depth=3,\n",
    "                             min_samples_leaf=2))],\n",
    "    # need to set balance because we have imblanced classes\n",
    "    [('svc', SVC(random_state=25,class_weight='balanced',gamma='auto'))],\n",
    "    [('ss',StandardScaler()),('pca',PCA(1)),('svc', SVC(random_state=25,class_weight='balanced',gamma='auto',kernel='rbf'))]\n",
    "]\n",
    "\n",
    "# LIST OF PARAMETER DICTIONARIES\n",
    "pipe_params = [\n",
    "    {'rf__bootstrap_features':[True,False]},\n",
    "    {'trees__learning_rate':np.linspace(0.1,1,3),'trees__max_features':['sqrt',None]},\n",
    "    {'svc__C':np.linspace(0.01,1,3),'svc__kernel':['linear','rbf']},\n",
    "    {'svc__C':np.linspace(0.01,1,3)}]\n"
   ]
  },
  {
   "cell_type": "markdown",
   "metadata": {},
   "source": [
    "# Comment: but for PCA, wouldn't it be better NOT to state the number of components i.e. PCA()? instead, after PCA(), plot % explained variance against number of components and then choose the optimal number of components?"
   ]
  },
  {
   "cell_type": "code",
   "execution_count": 35,
   "metadata": {
    "scrolled": true
   },
   "outputs": [
    {
     "name": "stderr",
     "output_type": "stream",
     "text": [
      "/Users/user/opt/anaconda3/lib/python3.7/site-packages/ipykernel_launcher.py:32: RuntimeWarning: invalid value encountered in long_scalars\n",
      "/Users/user/opt/anaconda3/lib/python3.7/site-packages/sklearn/model_selection/_search.py:814: DeprecationWarning: The default of the `iid` parameter will change from True to False in version 0.22 and will be removed in 0.24. This will change numeric results when test-set sizes are unequal.\n",
      "  DeprecationWarning)\n"
     ]
    },
    {
     "data": {
      "text/html": [
       "<div>\n",
       "<style scoped>\n",
       "    .dataframe tbody tr th:only-of-type {\n",
       "        vertical-align: middle;\n",
       "    }\n",
       "\n",
       "    .dataframe tbody tr th {\n",
       "        vertical-align: top;\n",
       "    }\n",
       "\n",
       "    .dataframe thead th {\n",
       "        text-align: right;\n",
       "    }\n",
       "</style>\n",
       "<table border=\"1\" class=\"dataframe\">\n",
       "  <thead>\n",
       "    <tr style=\"text-align: right;\">\n",
       "      <th></th>\n",
       "      <th>model</th>\n",
       "      <th>AUC Score</th>\n",
       "      <th>recall (sensitivity)</th>\n",
       "      <th>best params</th>\n",
       "      <th>best score</th>\n",
       "      <th>confusion matrix</th>\n",
       "      <th>train accuracy</th>\n",
       "      <th>test accuracy</th>\n",
       "      <th>baseline accuracy</th>\n",
       "      <th>precision</th>\n",
       "      <th>f1-score</th>\n",
       "    </tr>\n",
       "  </thead>\n",
       "  <tbody>\n",
       "    <tr>\n",
       "      <th>0</th>\n",
       "      <td>RF</td>\n",
       "      <td>0.50</td>\n",
       "      <td>NaN</td>\n",
       "      <td>{'rf__bootstrap_features': True}</td>\n",
       "      <td>0.95</td>\n",
       "      <td>{'TP': 0, 'FP': 0, 'TN': 2489, 'FN': 138}</td>\n",
       "      <td>0.95</td>\n",
       "      <td>0.95</td>\n",
       "      <td>0.95</td>\n",
       "      <td>0.00</td>\n",
       "      <td>NaN</td>\n",
       "    </tr>\n",
       "    <tr>\n",
       "      <th>1</th>\n",
       "      <td>GradientTrees</td>\n",
       "      <td>0.53</td>\n",
       "      <td>0.35</td>\n",
       "      <td>{'trees__learning_rate': 0.1, 'trees__max_features': 'sqrt'}</td>\n",
       "      <td>0.94</td>\n",
       "      <td>{'TP': 8, 'FP': 15, 'TN': 2474, 'FN': 130}</td>\n",
       "      <td>0.95</td>\n",
       "      <td>0.94</td>\n",
       "      <td>0.95</td>\n",
       "      <td>0.00</td>\n",
       "      <td>0.01</td>\n",
       "    </tr>\n",
       "    <tr>\n",
       "      <th>2</th>\n",
       "      <td>SVM</td>\n",
       "      <td>0.68</td>\n",
       "      <td>0.13</td>\n",
       "      <td>{'svc__C': 1.0, 'svc__kernel': 'rbf'}</td>\n",
       "      <td>0.80</td>\n",
       "      <td>{'TP': 79, 'FP': 526, 'TN': 1963, 'FN': 59}</td>\n",
       "      <td>0.81</td>\n",
       "      <td>0.78</td>\n",
       "      <td>0.95</td>\n",
       "      <td>0.04</td>\n",
       "      <td>0.06</td>\n",
       "    </tr>\n",
       "    <tr>\n",
       "      <th>3</th>\n",
       "      <td>SS+PCA+SVM</td>\n",
       "      <td>0.57</td>\n",
       "      <td>0.07</td>\n",
       "      <td>{'svc__C': 0.01}</td>\n",
       "      <td>0.53</td>\n",
       "      <td>{'TP': 89, 'FP': 1251, 'TN': 1238, 'FN': 49}</td>\n",
       "      <td>0.51</td>\n",
       "      <td>0.51</td>\n",
       "      <td>0.95</td>\n",
       "      <td>0.07</td>\n",
       "      <td>0.07</td>\n",
       "    </tr>\n",
       "  </tbody>\n",
       "</table>\n",
       "</div>"
      ],
      "text/plain": [
       "           model  AUC Score  recall (sensitivity)  \\\n",
       "0             RF       0.50                   NaN   \n",
       "1  GradientTrees       0.53                  0.35   \n",
       "2            SVM       0.68                  0.13   \n",
       "3     SS+PCA+SVM       0.57                  0.07   \n",
       "\n",
       "                                                    best params  best score  \\\n",
       "0                              {'rf__bootstrap_features': True}        0.95   \n",
       "1  {'trees__learning_rate': 0.1, 'trees__max_features': 'sqrt'}        0.94   \n",
       "2                         {'svc__C': 1.0, 'svc__kernel': 'rbf'}        0.80   \n",
       "3                                              {'svc__C': 0.01}        0.53   \n",
       "\n",
       "                               confusion matrix  train accuracy  \\\n",
       "0     {'TP': 0, 'FP': 0, 'TN': 2489, 'FN': 138}            0.95   \n",
       "1    {'TP': 8, 'FP': 15, 'TN': 2474, 'FN': 130}            0.95   \n",
       "2   {'TP': 79, 'FP': 526, 'TN': 1963, 'FN': 59}            0.81   \n",
       "3  {'TP': 89, 'FP': 1251, 'TN': 1238, 'FN': 49}            0.51   \n",
       "\n",
       "   test accuracy  baseline accuracy  precision  f1-score  \n",
       "0           0.95               0.95       0.00       NaN  \n",
       "1           0.94               0.95       0.00      0.01  \n",
       "2           0.78               0.95       0.04      0.06  \n",
       "3           0.51               0.95       0.07      0.07  "
      ]
     },
     "execution_count": 35,
     "metadata": {},
     "output_type": "execute_result"
    }
   ],
   "source": [
    "gridsearch_multi(steps_titles, steps_list, pipe_params)"
   ]
  },
  {
   "cell_type": "markdown",
   "metadata": {},
   "source": [
    "# Comment: very programmatic and efficient\n",
    "\n",
    "# Comment: but are there any reasons why you chose these models to train/test on? or any reasons why never consider LogReg etc?"
   ]
  },
  {
   "cell_type": "code",
   "execution_count": 36,
   "metadata": {
    "scrolled": true
   },
   "outputs": [
    {
     "name": "stderr",
     "output_type": "stream",
     "text": [
      "/Users/user/opt/anaconda3/lib/python3.7/site-packages/sklearn/model_selection/_split.py:1978: FutureWarning: The default value of cv will change from 3 to 5 in version 0.22. Specify it explicitly to silence this warning.\n",
      "  warnings.warn(CV_WARNING, FutureWarning)\n"
     ]
    },
    {
     "data": {
      "text/plain": [
       "GridSearchCV(cv='warn', error_score='raise-deprecating',\n",
       "             estimator=GradientBoostingClassifier(criterion='friedman_mse',\n",
       "                                                  init=None, learning_rate=0.1,\n",
       "                                                  loss='deviance', max_depth=3,\n",
       "                                                  max_features=None,\n",
       "                                                  max_leaf_nodes=None,\n",
       "                                                  min_impurity_decrease=0.0,\n",
       "                                                  min_impurity_split=None,\n",
       "                                                  min_samples_leaf=1,\n",
       "                                                  min_samples_split=2,\n",
       "                                                  min_weight_fraction_leaf=0.0,\n",
       "                                                  n_estimators=500,\n",
       "                                                  n_iter_no_change=None,\n",
       "                                                  presort='auto',\n",
       "                                                  random_state=42,\n",
       "                                                  subsample=1.0, tol=0.0001,\n",
       "                                                  validation_fraction=0.1,\n",
       "                                                  verbose=0, warm_start=False),\n",
       "             iid='warn', n_jobs=None,\n",
       "             param_grid={'learning_rate': array([0.1 , 0.55, 1.  ]),\n",
       "                         'max_features': ['sqrt', None]},\n",
       "             pre_dispatch='2*n_jobs', refit=True, return_train_score=False,\n",
       "             scoring='roc_auc', verbose=0)"
      ]
     },
     "execution_count": 36,
     "metadata": {},
     "output_type": "execute_result"
    }
   ],
   "source": [
    "# gradient Tree Worked best since recall is high even if auc is high the bias is super poor for SVM\n",
    "gb=GridSearchCV(GradientBoostingClassifier(n_estimators=500,max_depth=3,random_state=42),\n",
    "                {'learning_rate':np.linspace(0.1,1,3),'max_features':['sqrt',None]},scoring='roc_auc')            \n",
    "gb.fit(X,y)"
   ]
  },
  {
   "cell_type": "code",
   "execution_count": 37,
   "metadata": {},
   "outputs": [],
   "source": [
    "features=gb.best_estimator_.feature_importances_"
   ]
  },
  {
   "cell_type": "code",
   "execution_count": 38,
   "metadata": {},
   "outputs": [
    {
     "data": {
      "text/plain": [
       "<matplotlib.axes._subplots.AxesSubplot at 0x1a170373d0>"
      ]
     },
     "execution_count": 38,
     "metadata": {},
     "output_type": "execute_result"
    },
    {
     "data": {
      "image/png": "[encoded data removed]",
      "text/plain": [
       "<Figure size 720x720 with 1 Axes>"
      ]
     },
     "metadata": {
      "needs_background": "light"
     },
     "output_type": "display_data"
    }
   ],
   "source": [
    "plt.figure(figsize=(10,10))\n",
    "pd.Series(features,index=X.columns).plot(kind='barh')"
   ]
  },
  {
   "cell_type": "markdown",
   "metadata": {},
   "source": [
    "# Comment: perhaps sorting it will make it easier to read"
   ]
  },
  {
   "cell_type": "code",
   "execution_count": 39,
   "metadata": {},
   "outputs": [],
   "source": [
    "# importing data for kaggle submission\n",
    "weather=pd.read_csv('data/weather_cleaned.csv')\n",
    "test=pd.read_csv('data/test.csv')\n",
    "test['Station'] = [station(x) for x in test[['Latitude','Longitude']].values]\n",
    "test=pd.merge(test,weather,on=['Date','Station'])"
   ]
  },
  {
   "cell_type": "code",
   "execution_count": 40,
   "metadata": {
    "scrolled": true
   },
   "outputs": [],
   "source": [
    "# submission for Kaggle\n",
    "test=transform_test(test)"
   ]
  },
  {
   "cell_type": "code",
   "execution_count": 41,
   "metadata": {},
   "outputs": [
    {
     "name": "stdout",
     "output_type": "stream",
     "text": [
      "Index(['WnvPresent', 'FG'], dtype='object') Index(['Id', 'Sunrise', 'Sunset', 'BCFG', 'FG+'], dtype='object')\n"
     ]
    }
   ],
   "source": [
    "# columns train have but test dun have and columns test have train doesnt have\n",
    "print(combined.columns[np.isin(combined.columns,test.columns,invert=True)],\n",
    "      test.columns[np.isin(test.columns,combined.columns,invert=True)])"
   ]
  },
  {
   "cell_type": "code",
   "execution_count": 42,
   "metadata": {},
   "outputs": [],
   "source": [
    "extra_col=test.columns[np.isin(test.columns,combined.columns,invert=True)]\n",
    "# set FG ,spray_times to 0\n",
    "test['FG']=0\n",
    "# remove extra features from test\n",
    "X_test=test.drop(extra_col,axis=1)\n",
    "# sort columns to match the combined dataframe\n",
    "X_test = X_test.reindex(columns=combined.drop('WnvPresent',axis=1).columns)"
   ]
  },
  {
   "cell_type": "code",
   "execution_count": 43,
   "metadata": {},
   "outputs": [
    {
     "data": {
      "text/plain": [
       "0"
      ]
     },
     "execution_count": 43,
     "metadata": {},
     "output_type": "execute_result"
    }
   ],
   "source": [
    "X_test.isnull().sum().sum()"
   ]
  },
  {
   "cell_type": "code",
   "execution_count": 44,
   "metadata": {
    "scrolled": true
   },
   "outputs": [],
   "source": [
    "kaggle_result=gb.predict_proba(X_test)[:,1] "
   ]
  },
  {
   "cell_type": "code",
   "execution_count": 45,
   "metadata": {},
   "outputs": [],
   "source": [
    "#kaggle_result[(X_test.Species[X_test.Species==False]).index]=0\n",
    "WnvPresent=pd.Series(kaggle_result,name='WnvPresent')\n",
    "kaggle=pd.DataFrame(columns=[test['Id'],WnvPresent]).T\n",
    "kaggle.to_csv('data/kaggle.csv')"
   ]
  },
  {
   "cell_type": "markdown",
   "metadata": {},
   "source": [
    "![](assets/Kaggle.JPG)"
   ]
  },
  {
   "cell_type": "markdown",
   "metadata": {},
   "source": [
    "# Comment: generally, the WHOLE project is quite well done, but unfortunately this last bit of the modelling phase pulls down the overall mark slightly due to less-than-ideal formatting and readability.\n",
    "\n",
    "# Comment: programmatically, everything is great, but the commenting/explaining (and formatting of course) can be much more thorough at the final part\n",
    "\n",
    "# Comment: for example, what is F1-score? why was it included in the table as a form of evaluation metric? i know it wasn't used in the end as a metric, but the fact that you included it at all in the summary table of results means it should be explained a bit somewhat.\n",
    "\n",
    "# Comment: more interpretation and explanation should be done in feature importance (none was given in this notebook, and only a few lines were mentioned in the README.md)"
   ]
  }
 ],
 "metadata": {
  "kernelspec": {
   "display_name": "Python 3",
   "language": "python",
   "name": "python3"
  },
  "language_info": {
   "codemirror_mode": {
    "name": "ipython",
    "version": 3
   },
   "file_extension": ".py",
   "mimetype": "text/x-python",
   "name": "python",
   "nbconvert_exporter": "python",
   "pygments_lexer": "ipython3",
   "version": "3.7.4"
  }
 },
 "nbformat": 4,
 "nbformat_minor": 2
}
